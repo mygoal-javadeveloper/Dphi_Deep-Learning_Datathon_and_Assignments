{
  "nbformat": 4,
  "nbformat_minor": 0,
  "metadata": {
    "colab": {
      "name": "assignment1.ipynb",
      "provenance": [],
      "collapsed_sections": []
    },
    "kernelspec": {
      "name": "python3",
      "display_name": "Python 3"
    }
  },
  "cells": [
    {
      "cell_type": "markdown",
      "metadata": {
        "id": "ZsRbi-5h4HkE",
        "colab_type": "text"
      },
      "source": [
        "# Deep Learning Bootcamp - Assignment 1 - Beginners: BankNote\n",
        "## Predict if a note is genuine or not\n",
        "\n",
        "# Context\n",
        "\n",
        "Banknotes are one of the most important assets of a country. Some miscreants introduce fake notes which bear a resemblance to original note to create discrepancies of the money in the financial market. It is difficult for humans to tell true and fake banknotes apart especially because they have a lot of similar features.\n",
        "\n",
        "![alt](<https://dphi-courses.s3.ap-south-1.amazonaws.com/Datathons/banknotes.png>)\n",
        "**source: leftover currency**\n",
        "\n",
        "**Motivation** Despite a decrease in the use of currency due to the recent growth in the use of electronic transactions, cash transactions remain very important in the global market. Banknotes are used to carry out financial activities. To continue with smooth cash transactions, entry of forged banknotes in circulation should be prevented. There has been a drastic increase in the rate of fake notes in the market. Fake money is an imitation of the genuine notes and is created illegally for various motives. These fake notes are created in all denominations which brings the financial market of the country to a low level. The various advancements in the field of scanners and copy machines have led the miscreants to create copies of banknotes. It is difficult for human-eye to recognize a fake note because they are created with great accuracy to look alike a genuine note. Security aspects of banknotes have to be considered and security features are to be introduced to mitigate fake currency. Hence, there is a dire need in banks and ATM machines to implement a system that classifies a note as genuine or fake.\n",
        "\n",
        "[**Source of Information:** A research paper on Analysis of Banknote Authentication System using Machine Learning Techniques by Sumeet Shahani, Aisa Jagiasi and Priya RL at International Journal of Computer Applications (0975 – 8887) Volume 179 – No.20, February 2018]\n",
        "\n",
        "# Objective\n",
        "\n",
        "Being a Data Science, I am committed to use the power of Data Science and come up with an efficient model that accurately predicts if a note is genuine or not.\n",
        "\n",
        "# Evaluation Criteria\n",
        "\n",
        "Submissions are evaluated using **Accuracy Score**.\n",
        "\n",
        "![alt](<https://dphi-courses.s3.ap-south-1.amazonaws.com/Datathons/accuracy_score.png>)\n",
        "\n",
        "# About the Data\n",
        "\n",
        "Data were extracted from images that were taken for the evaluation of an authentication procedure for banknotes. Data were extracted from images that were taken from genuine and forged banknote-like specimens. For digitization, an industrial camera usually used for print inspection was used. The final images have 400x 400 pixels. Due to the object lens and distance to the investigated object grey-scale pictures with a resolution of about 660 dpi were gained. Wavelet Transform tool was used to extract features from images.\n",
        "\n",
        "# Data Description\n",
        "\n",
        "|Column Name|Description|\n",
        "|:----|:----|\n",
        "|VWTI|Variance of Wavelet Transformed Image|\n",
        "|SWTI|Skewness of Wavelet Transformed Image|\n",
        "|CWTI|Curtosis of Wavelet Transformed Image|\n",
        "|EI|Entropy of Image|\n",
        "|Class|Class (1: genuine, 0: forged)|\n",
        "\n",
        "# Acknowledgement\n",
        "\n",
        "The dataset is downloaded from the UCI Machine Learning Repository.\n"
      ]
    },
    {
      "cell_type": "code",
      "metadata": {
        "id": "CGxE3vY0QwQy",
        "colab_type": "code",
        "colab": {
          "base_uri": "https://localhost:8080/",
          "height": 71
        },
        "outputId": "87e60b8e-bdf6-4fee-8e8c-ed8d2beb385b"
      },
      "source": [
        "#importing libraries \n",
        "import numpy as np\n",
        "import pandas as pd\n",
        "\n",
        "#import libraries for visualization\n",
        "import matplotlib.pyplot as plt\n",
        "import seaborn as sns\n",
        "%matplotlib inline"
      ],
      "execution_count": 1,
      "outputs": [
        {
          "output_type": "stream",
          "text": [
            "/usr/local/lib/python3.6/dist-packages/statsmodels/tools/_testing.py:19: FutureWarning: pandas.util.testing is deprecated. Use the functions in the public API at pandas.testing instead.\n",
            "  import pandas.util.testing as tm\n"
          ],
          "name": "stderr"
        }
      ]
    },
    {
      "cell_type": "code",
      "metadata": {
        "id": "XDXjvOCnOnRV",
        "colab_type": "code",
        "colab": {}
      },
      "source": [
        "#reading train dataset\n",
        "bank_note_data = pd.read_csv(\"https://raw.githubusercontent.com/dphi-official/Datasets/master/bank_note_data/training_set_label.csv\" )"
      ],
      "execution_count": 2,
      "outputs": []
    },
    {
      "cell_type": "code",
      "metadata": {
        "id": "pgdJYUWwOp8r",
        "colab_type": "code",
        "colab": {}
      },
      "source": [
        "#reading new unseen test dataset\n",
        "test_data = pd.read_csv('https://raw.githubusercontent.com/dphi-official/Datasets/master/bank_note_data/testing_set_label.csv')"
      ],
      "execution_count": 3,
      "outputs": []
    },
    {
      "cell_type": "code",
      "metadata": {
        "id": "G85abFVnOxqc",
        "colab_type": "code",
        "colab": {
          "base_uri": "https://localhost:8080/",
          "height": 34
        },
        "outputId": "3f785414-2d82-4438-8802-773207691faf"
      },
      "source": [
        "#getting the overview of all the columns in the dataset\n",
        "bank_note_data.columns"
      ],
      "execution_count": 4,
      "outputs": [
        {
          "output_type": "execute_result",
          "data": {
            "text/plain": [
              "Index(['VWTI', 'SWTI', 'CWTI', 'EI', 'Class'], dtype='object')"
            ]
          },
          "metadata": {
            "tags": []
          },
          "execution_count": 4
        }
      ]
    },
    {
      "cell_type": "code",
      "metadata": {
        "id": "aYpHoXwEPO8H",
        "colab_type": "code",
        "colab": {
          "base_uri": "https://localhost:8080/",
          "height": 34
        },
        "outputId": "5298a461-aa7d-4b7c-b846-72dcd8454e33"
      },
      "source": [
        "test_data.columns"
      ],
      "execution_count": 5,
      "outputs": [
        {
          "output_type": "execute_result",
          "data": {
            "text/plain": [
              "Index(['VWTI', 'SWTI', 'CWTI', 'EI'], dtype='object')"
            ]
          },
          "metadata": {
            "tags": []
          },
          "execution_count": 5
        }
      ]
    },
    {
      "cell_type": "code",
      "metadata": {
        "id": "tQFRfbhzPOtX",
        "colab_type": "code",
        "colab": {
          "base_uri": "https://localhost:8080/",
          "height": 204
        },
        "outputId": "f4544b0c-2724-4fbb-b633-b29f48451def"
      },
      "source": [
        "bank_note_data.head()"
      ],
      "execution_count": 6,
      "outputs": [
        {
          "output_type": "execute_result",
          "data": {
            "text/html": [
              "<div>\n",
              "<style scoped>\n",
              "    .dataframe tbody tr th:only-of-type {\n",
              "        vertical-align: middle;\n",
              "    }\n",
              "\n",
              "    .dataframe tbody tr th {\n",
              "        vertical-align: top;\n",
              "    }\n",
              "\n",
              "    .dataframe thead th {\n",
              "        text-align: right;\n",
              "    }\n",
              "</style>\n",
              "<table border=\"1\" class=\"dataframe\">\n",
              "  <thead>\n",
              "    <tr style=\"text-align: right;\">\n",
              "      <th></th>\n",
              "      <th>VWTI</th>\n",
              "      <th>SWTI</th>\n",
              "      <th>CWTI</th>\n",
              "      <th>EI</th>\n",
              "      <th>Class</th>\n",
              "    </tr>\n",
              "  </thead>\n",
              "  <tbody>\n",
              "    <tr>\n",
              "      <th>0</th>\n",
              "      <td>2.2634</td>\n",
              "      <td>-4.4862</td>\n",
              "      <td>3.6558</td>\n",
              "      <td>-0.612510</td>\n",
              "      <td>0</td>\n",
              "    </tr>\n",
              "    <tr>\n",
              "      <th>1</th>\n",
              "      <td>3.2718</td>\n",
              "      <td>1.7837</td>\n",
              "      <td>2.1161</td>\n",
              "      <td>0.613340</td>\n",
              "      <td>0</td>\n",
              "    </tr>\n",
              "    <tr>\n",
              "      <th>2</th>\n",
              "      <td>-3.9411</td>\n",
              "      <td>-12.8792</td>\n",
              "      <td>13.0597</td>\n",
              "      <td>-3.312500</td>\n",
              "      <td>1</td>\n",
              "    </tr>\n",
              "    <tr>\n",
              "      <th>3</th>\n",
              "      <td>0.5195</td>\n",
              "      <td>-3.2633</td>\n",
              "      <td>3.0895</td>\n",
              "      <td>-0.984900</td>\n",
              "      <td>0</td>\n",
              "    </tr>\n",
              "    <tr>\n",
              "      <th>4</th>\n",
              "      <td>2.5698</td>\n",
              "      <td>-4.4076</td>\n",
              "      <td>5.9856</td>\n",
              "      <td>0.078002</td>\n",
              "      <td>0</td>\n",
              "    </tr>\n",
              "  </tbody>\n",
              "</table>\n",
              "</div>"
            ],
            "text/plain": [
              "     VWTI     SWTI     CWTI        EI  Class\n",
              "0  2.2634  -4.4862   3.6558 -0.612510      0\n",
              "1  3.2718   1.7837   2.1161  0.613340      0\n",
              "2 -3.9411 -12.8792  13.0597 -3.312500      1\n",
              "3  0.5195  -3.2633   3.0895 -0.984900      0\n",
              "4  2.5698  -4.4076   5.9856  0.078002      0"
            ]
          },
          "metadata": {
            "tags": []
          },
          "execution_count": 6
        }
      ]
    },
    {
      "cell_type": "code",
      "metadata": {
        "id": "WmKVxcCARehh",
        "colab_type": "code",
        "colab": {
          "base_uri": "https://localhost:8080/",
          "height": 221
        },
        "outputId": "a3dca673-8af2-4cec-b83c-51657eb4f14c"
      },
      "source": [
        "bank_note_data.info()"
      ],
      "execution_count": 7,
      "outputs": [
        {
          "output_type": "stream",
          "text": [
            "<class 'pandas.core.frame.DataFrame'>\n",
            "RangeIndex: 1096 entries, 0 to 1095\n",
            "Data columns (total 5 columns):\n",
            " #   Column  Non-Null Count  Dtype  \n",
            "---  ------  --------------  -----  \n",
            " 0   VWTI    1096 non-null   float64\n",
            " 1   SWTI    1096 non-null   float64\n",
            " 2   CWTI    1096 non-null   float64\n",
            " 3   EI      1096 non-null   float64\n",
            " 4   Class   1096 non-null   int64  \n",
            "dtypes: float64(4), int64(1)\n",
            "memory usage: 42.9 KB\n"
          ],
          "name": "stdout"
        }
      ]
    },
    {
      "cell_type": "code",
      "metadata": {
        "id": "BCdM51L5R2dZ",
        "colab_type": "code",
        "colab": {
          "base_uri": "https://localhost:8080/",
          "height": 119
        },
        "outputId": "4be5ad0d-aa01-417c-cb26-c61d6ace6d1e"
      },
      "source": [
        "bank_note_data.isnull().sum()"
      ],
      "execution_count": 8,
      "outputs": [
        {
          "output_type": "execute_result",
          "data": {
            "text/plain": [
              "VWTI     0\n",
              "SWTI     0\n",
              "CWTI     0\n",
              "EI       0\n",
              "Class    0\n",
              "dtype: int64"
            ]
          },
          "metadata": {
            "tags": []
          },
          "execution_count": 8
        }
      ]
    },
    {
      "cell_type": "code",
      "metadata": {
        "id": "n9sc2OdXTW1g",
        "colab_type": "code",
        "colab": {
          "base_uri": "https://localhost:8080/",
          "height": 34
        },
        "outputId": "fbacf36c-ae57-492b-baa3-4eddaee4b04f"
      },
      "source": [
        "#checking for duplicates values\n",
        "bank_note_data.duplicated().sum()"
      ],
      "execution_count": 9,
      "outputs": [
        {
          "output_type": "execute_result",
          "data": {
            "text/plain": [
              "17"
            ]
          },
          "metadata": {
            "tags": []
          },
          "execution_count": 9
        }
      ]
    },
    {
      "cell_type": "code",
      "metadata": {
        "id": "A2dlBvoYTjR-",
        "colab_type": "code",
        "colab": {
          "base_uri": "https://localhost:8080/",
          "height": 34
        },
        "outputId": "c199ae94-3846-441d-8384-64c9b7006fc6"
      },
      "source": [
        "#rough checking how many times may each of the 24 values (output above) exists in the dataset\n",
        "bank_note_data.duplicated(keep=False).sum()"
      ],
      "execution_count": 10,
      "outputs": [
        {
          "output_type": "execute_result",
          "data": {
            "text/plain": [
              "27"
            ]
          },
          "metadata": {
            "tags": []
          },
          "execution_count": 10
        }
      ]
    },
    {
      "cell_type": "code",
      "metadata": {
        "id": "kcD15MX-Tu2E",
        "colab_type": "code",
        "colab": {}
      },
      "source": [
        "#sorting the dataset to make duplicates come together one after another. The sorted dataset index values are also changed\n",
        "cols = list(bank_note_data.columns)\n",
        "bank_note_data.sort_values(by=cols, inplace=True, ignore_index=True) "
      ],
      "execution_count": 11,
      "outputs": []
    },
    {
      "cell_type": "code",
      "metadata": {
        "id": "5zRjkP1pUOZY",
        "colab_type": "code",
        "colab": {
          "base_uri": "https://localhost:8080/",
          "height": 886
        },
        "outputId": "c6d2dc20-e656-4e66-b2f2-c111e6920e2f"
      },
      "source": [
        "#duplicate records in the dataset\n",
        "dup = bank_note_data[bank_note_data.duplicated(keep=False)]\n",
        "dup"
      ],
      "execution_count": 12,
      "outputs": [
        {
          "output_type": "execute_result",
          "data": {
            "text/html": [
              "<div>\n",
              "<style scoped>\n",
              "    .dataframe tbody tr th:only-of-type {\n",
              "        vertical-align: middle;\n",
              "    }\n",
              "\n",
              "    .dataframe tbody tr th {\n",
              "        vertical-align: top;\n",
              "    }\n",
              "\n",
              "    .dataframe thead th {\n",
              "        text-align: right;\n",
              "    }\n",
              "</style>\n",
              "<table border=\"1\" class=\"dataframe\">\n",
              "  <thead>\n",
              "    <tr style=\"text-align: right;\">\n",
              "      <th></th>\n",
              "      <th>VWTI</th>\n",
              "      <th>SWTI</th>\n",
              "      <th>CWTI</th>\n",
              "      <th>EI</th>\n",
              "      <th>Class</th>\n",
              "    </tr>\n",
              "  </thead>\n",
              "  <tbody>\n",
              "    <tr>\n",
              "      <th>155</th>\n",
              "      <td>-2.6479</td>\n",
              "      <td>10.1374</td>\n",
              "      <td>-1.3310</td>\n",
              "      <td>-5.4707</td>\n",
              "      <td>0</td>\n",
              "    </tr>\n",
              "    <tr>\n",
              "      <th>156</th>\n",
              "      <td>-2.6479</td>\n",
              "      <td>10.1374</td>\n",
              "      <td>-1.3310</td>\n",
              "      <td>-5.4707</td>\n",
              "      <td>0</td>\n",
              "    </tr>\n",
              "    <tr>\n",
              "      <th>157</th>\n",
              "      <td>-2.6479</td>\n",
              "      <td>10.1374</td>\n",
              "      <td>-1.3310</td>\n",
              "      <td>-5.4707</td>\n",
              "      <td>0</td>\n",
              "    </tr>\n",
              "    <tr>\n",
              "      <th>256</th>\n",
              "      <td>-1.8584</td>\n",
              "      <td>7.8860</td>\n",
              "      <td>-1.6643</td>\n",
              "      <td>-1.8384</td>\n",
              "      <td>0</td>\n",
              "    </tr>\n",
              "    <tr>\n",
              "      <th>257</th>\n",
              "      <td>-1.8584</td>\n",
              "      <td>7.8860</td>\n",
              "      <td>-1.6643</td>\n",
              "      <td>-1.8384</td>\n",
              "      <td>0</td>\n",
              "    </tr>\n",
              "    <tr>\n",
              "      <th>258</th>\n",
              "      <td>-1.8584</td>\n",
              "      <td>7.8860</td>\n",
              "      <td>-1.6643</td>\n",
              "      <td>-1.8384</td>\n",
              "      <td>0</td>\n",
              "    </tr>\n",
              "    <tr>\n",
              "      <th>346</th>\n",
              "      <td>-1.3000</td>\n",
              "      <td>10.2678</td>\n",
              "      <td>-2.9530</td>\n",
              "      <td>-5.8638</td>\n",
              "      <td>0</td>\n",
              "    </tr>\n",
              "    <tr>\n",
              "      <th>347</th>\n",
              "      <td>-1.3000</td>\n",
              "      <td>10.2678</td>\n",
              "      <td>-2.9530</td>\n",
              "      <td>-5.8638</td>\n",
              "      <td>0</td>\n",
              "    </tr>\n",
              "    <tr>\n",
              "      <th>348</th>\n",
              "      <td>-1.3000</td>\n",
              "      <td>10.2678</td>\n",
              "      <td>-2.9530</td>\n",
              "      <td>-5.8638</td>\n",
              "      <td>0</td>\n",
              "    </tr>\n",
              "    <tr>\n",
              "      <th>397</th>\n",
              "      <td>-0.7869</td>\n",
              "      <td>9.5663</td>\n",
              "      <td>-3.7867</td>\n",
              "      <td>-7.5034</td>\n",
              "      <td>0</td>\n",
              "    </tr>\n",
              "    <tr>\n",
              "      <th>398</th>\n",
              "      <td>-0.7869</td>\n",
              "      <td>9.5663</td>\n",
              "      <td>-3.7867</td>\n",
              "      <td>-7.5034</td>\n",
              "      <td>0</td>\n",
              "    </tr>\n",
              "    <tr>\n",
              "      <th>448</th>\n",
              "      <td>-0.2780</td>\n",
              "      <td>8.1881</td>\n",
              "      <td>-3.1338</td>\n",
              "      <td>-2.5276</td>\n",
              "      <td>0</td>\n",
              "    </tr>\n",
              "    <tr>\n",
              "      <th>449</th>\n",
              "      <td>-0.2780</td>\n",
              "      <td>8.1881</td>\n",
              "      <td>-3.1338</td>\n",
              "      <td>-2.5276</td>\n",
              "      <td>0</td>\n",
              "    </tr>\n",
              "    <tr>\n",
              "      <th>456</th>\n",
              "      <td>-0.2062</td>\n",
              "      <td>9.2207</td>\n",
              "      <td>-3.7044</td>\n",
              "      <td>-6.8103</td>\n",
              "      <td>0</td>\n",
              "    </tr>\n",
              "    <tr>\n",
              "      <th>457</th>\n",
              "      <td>-0.2062</td>\n",
              "      <td>9.2207</td>\n",
              "      <td>-3.7044</td>\n",
              "      <td>-6.8103</td>\n",
              "      <td>0</td>\n",
              "    </tr>\n",
              "    <tr>\n",
              "      <th>516</th>\n",
              "      <td>0.3292</td>\n",
              "      <td>-4.4552</td>\n",
              "      <td>4.5718</td>\n",
              "      <td>-0.9888</td>\n",
              "      <td>0</td>\n",
              "    </tr>\n",
              "    <tr>\n",
              "      <th>517</th>\n",
              "      <td>0.3292</td>\n",
              "      <td>-4.4552</td>\n",
              "      <td>4.5718</td>\n",
              "      <td>-0.9888</td>\n",
              "      <td>0</td>\n",
              "    </tr>\n",
              "    <tr>\n",
              "      <th>518</th>\n",
              "      <td>0.3292</td>\n",
              "      <td>-4.4552</td>\n",
              "      <td>4.5718</td>\n",
              "      <td>-0.9888</td>\n",
              "      <td>0</td>\n",
              "    </tr>\n",
              "    <tr>\n",
              "      <th>519</th>\n",
              "      <td>0.3292</td>\n",
              "      <td>-4.4552</td>\n",
              "      <td>4.5718</td>\n",
              "      <td>-0.9888</td>\n",
              "      <td>0</td>\n",
              "    </tr>\n",
              "    <tr>\n",
              "      <th>542</th>\n",
              "      <td>0.5195</td>\n",
              "      <td>-3.2633</td>\n",
              "      <td>3.0895</td>\n",
              "      <td>-0.9849</td>\n",
              "      <td>0</td>\n",
              "    </tr>\n",
              "    <tr>\n",
              "      <th>543</th>\n",
              "      <td>0.5195</td>\n",
              "      <td>-3.2633</td>\n",
              "      <td>3.0895</td>\n",
              "      <td>-0.9849</td>\n",
              "      <td>0</td>\n",
              "    </tr>\n",
              "    <tr>\n",
              "      <th>544</th>\n",
              "      <td>0.5195</td>\n",
              "      <td>-3.2633</td>\n",
              "      <td>3.0895</td>\n",
              "      <td>-0.9849</td>\n",
              "      <td>0</td>\n",
              "    </tr>\n",
              "    <tr>\n",
              "      <th>553</th>\n",
              "      <td>0.5706</td>\n",
              "      <td>-0.0248</td>\n",
              "      <td>1.2421</td>\n",
              "      <td>-0.5621</td>\n",
              "      <td>0</td>\n",
              "    </tr>\n",
              "    <tr>\n",
              "      <th>554</th>\n",
              "      <td>0.5706</td>\n",
              "      <td>-0.0248</td>\n",
              "      <td>1.2421</td>\n",
              "      <td>-0.5621</td>\n",
              "      <td>0</td>\n",
              "    </tr>\n",
              "    <tr>\n",
              "      <th>555</th>\n",
              "      <td>0.5706</td>\n",
              "      <td>-0.0248</td>\n",
              "      <td>1.2421</td>\n",
              "      <td>-0.5621</td>\n",
              "      <td>0</td>\n",
              "    </tr>\n",
              "    <tr>\n",
              "      <th>606</th>\n",
              "      <td>0.9297</td>\n",
              "      <td>-3.7971</td>\n",
              "      <td>4.6429</td>\n",
              "      <td>-0.2957</td>\n",
              "      <td>0</td>\n",
              "    </tr>\n",
              "    <tr>\n",
              "      <th>607</th>\n",
              "      <td>0.9297</td>\n",
              "      <td>-3.7971</td>\n",
              "      <td>4.6429</td>\n",
              "      <td>-0.2957</td>\n",
              "      <td>0</td>\n",
              "    </tr>\n",
              "  </tbody>\n",
              "</table>\n",
              "</div>"
            ],
            "text/plain": [
              "       VWTI     SWTI    CWTI      EI  Class\n",
              "155 -2.6479  10.1374 -1.3310 -5.4707      0\n",
              "156 -2.6479  10.1374 -1.3310 -5.4707      0\n",
              "157 -2.6479  10.1374 -1.3310 -5.4707      0\n",
              "256 -1.8584   7.8860 -1.6643 -1.8384      0\n",
              "257 -1.8584   7.8860 -1.6643 -1.8384      0\n",
              "258 -1.8584   7.8860 -1.6643 -1.8384      0\n",
              "346 -1.3000  10.2678 -2.9530 -5.8638      0\n",
              "347 -1.3000  10.2678 -2.9530 -5.8638      0\n",
              "348 -1.3000  10.2678 -2.9530 -5.8638      0\n",
              "397 -0.7869   9.5663 -3.7867 -7.5034      0\n",
              "398 -0.7869   9.5663 -3.7867 -7.5034      0\n",
              "448 -0.2780   8.1881 -3.1338 -2.5276      0\n",
              "449 -0.2780   8.1881 -3.1338 -2.5276      0\n",
              "456 -0.2062   9.2207 -3.7044 -6.8103      0\n",
              "457 -0.2062   9.2207 -3.7044 -6.8103      0\n",
              "516  0.3292  -4.4552  4.5718 -0.9888      0\n",
              "517  0.3292  -4.4552  4.5718 -0.9888      0\n",
              "518  0.3292  -4.4552  4.5718 -0.9888      0\n",
              "519  0.3292  -4.4552  4.5718 -0.9888      0\n",
              "542  0.5195  -3.2633  3.0895 -0.9849      0\n",
              "543  0.5195  -3.2633  3.0895 -0.9849      0\n",
              "544  0.5195  -3.2633  3.0895 -0.9849      0\n",
              "553  0.5706  -0.0248  1.2421 -0.5621      0\n",
              "554  0.5706  -0.0248  1.2421 -0.5621      0\n",
              "555  0.5706  -0.0248  1.2421 -0.5621      0\n",
              "606  0.9297  -3.7971  4.6429 -0.2957      0\n",
              "607  0.9297  -3.7971  4.6429 -0.2957      0"
            ]
          },
          "metadata": {
            "tags": []
          },
          "execution_count": 12
        }
      ]
    },
    {
      "cell_type": "code",
      "metadata": {
        "id": "lun0VRCdUZCq",
        "colab_type": "code",
        "colab": {}
      },
      "source": [
        "bank_note_data.drop_duplicates(keep='last', inplace=True, ignore_index=True)"
      ],
      "execution_count": 13,
      "outputs": []
    },
    {
      "cell_type": "code",
      "metadata": {
        "id": "YNhJuG31XCwF",
        "colab_type": "code",
        "colab": {
          "base_uri": "https://localhost:8080/",
          "height": 34
        },
        "outputId": "c6bc0beb-34ea-47f5-e74c-e28e1389e2da"
      },
      "source": [
        "bank_note_data.duplicated().sum()"
      ],
      "execution_count": 14,
      "outputs": [
        {
          "output_type": "execute_result",
          "data": {
            "text/plain": [
              "0"
            ]
          },
          "metadata": {
            "tags": []
          },
          "execution_count": 14
        }
      ]
    },
    {
      "cell_type": "code",
      "metadata": {
        "id": "TR8o5CeGXL3L",
        "colab_type": "code",
        "colab": {
          "base_uri": "https://localhost:8080/",
          "height": 68
        },
        "outputId": "de28ce3d-3453-44ef-fa90-2a119ca2a573"
      },
      "source": [
        "bank_note_data['Class'].value_counts()"
      ],
      "execution_count": 15,
      "outputs": [
        {
          "output_type": "execute_result",
          "data": {
            "text/plain": [
              "0    591\n",
              "1    488\n",
              "Name: Class, dtype: int64"
            ]
          },
          "metadata": {
            "tags": []
          },
          "execution_count": 15
        }
      ]
    },
    {
      "cell_type": "code",
      "metadata": {
        "id": "1Dgn_S-tXbPJ",
        "colab_type": "code",
        "colab": {
          "base_uri": "https://localhost:8080/",
          "height": 68
        },
        "outputId": "62a7bae9-5001-48b7-ce00-f22aec74a70c"
      },
      "source": [
        "round(bank_note_data['Class'].value_counts(normalize = True)* 100, 2)"
      ],
      "execution_count": 16,
      "outputs": [
        {
          "output_type": "execute_result",
          "data": {
            "text/plain": [
              "0    54.77\n",
              "1    45.23\n",
              "Name: Class, dtype: float64"
            ]
          },
          "metadata": {
            "tags": []
          },
          "execution_count": 16
        }
      ]
    },
    {
      "cell_type": "code",
      "metadata": {
        "id": "pF8bF_UaXlMf",
        "colab_type": "code",
        "colab": {
          "base_uri": "https://localhost:8080/",
          "height": 285
        },
        "outputId": "97ab28ff-4b5f-49d1-b10a-377e0d453b78"
      },
      "source": [
        "sns.set(style=\"darkgrid\")\n",
        "ax = sns.countplot(x='Class', data=bank_note_data)\n",
        "plt.show()"
      ],
      "execution_count": 17,
      "outputs": [
        {
          "output_type": "display_data",
          "data": {
            "image/png": "[encoded data removed]",
            "text/plain": [
              "<Figure size 432x288 with 1 Axes>"
            ]
          },
          "metadata": {
            "tags": []
          }
        }
      ]
    },
    {
      "cell_type": "code",
      "metadata": {
        "id": "s6l66NNnZkm2",
        "colab_type": "code",
        "colab": {}
      },
      "source": [
        "#initializing the X (independent variables) and y (dependent variable)\n",
        "X = bank_note_data.drop('Class', axis = 1)\n",
        "y = bank_note_data['Class']"
      ],
      "execution_count": 18,
      "outputs": []
    },
    {
      "cell_type": "code",
      "metadata": {
        "id": "95KZMuFra1Cu",
        "colab_type": "code",
        "colab": {}
      },
      "source": [
        "# Imports\n",
        "import tensorflow as tf  # Importing the TensorFlow Library\n",
        "from tensorflow import keras  # Import Keras from TensorFlow\n",
        "\n",
        "from tensorflow.keras import Sequential \n",
        "from tensorflow.keras import layers\n",
        "from tensorflow.keras.layers import Dense"
      ],
      "execution_count": 19,
      "outputs": []
    },
    {
      "cell_type": "code",
      "metadata": {
        "id": "Lli9y2wjCo0y",
        "colab_type": "code",
        "colab": {
          "base_uri": "https://localhost:8080/",
          "height": 34
        },
        "outputId": "c5b65b4b-a5e7-4017-9cb1-21183ce6d030"
      },
      "source": [
        "X.shape[1]"
      ],
      "execution_count": 20,
      "outputs": [
        {
          "output_type": "execute_result",
          "data": {
            "text/plain": [
              "4"
            ]
          },
          "metadata": {
            "tags": []
          },
          "execution_count": 20
        }
      ]
    },
    {
      "cell_type": "code",
      "metadata": {
        "id": "mRUxDK1Scxl4",
        "colab_type": "code",
        "colab": {}
      },
      "source": [
        "# Building the model\n",
        "model = Sequential()\n",
        "model.add(Dense(32, activation='relu', input_shape=(X.shape[1],)))   \n",
        "model.add(Dense(16, activation='relu'))\n",
        "model.add(Dense(8, activation='relu'))\n",
        "model.add(Dense(1, activation='sigmoid'))   "
      ],
      "execution_count": 21,
      "outputs": []
    },
    {
      "cell_type": "code",
      "metadata": {
        "id": "9QbqQ5J4tEPj",
        "colab_type": "code",
        "colab": {}
      },
      "source": [
        "# Compiling the model\n",
        "from tensorflow.keras.optimizers import RMSprop\n",
        "optimizer = RMSprop(0.001)  # Here, we have set our learning rate as 0.001\n",
        "model.compile(loss='binary_crossentropy', optimizer= optimizer , metrics=['accuracy'])"
      ],
      "execution_count": 22,
      "outputs": []
    },
    {
      "cell_type": "code",
      "metadata": {
        "id": "zU101VJF9rv5",
        "colab_type": "code",
        "colab": {
          "base_uri": "https://localhost:8080/",
          "height": 289
        },
        "outputId": "6a4ad0cc-bbbd-494c-ecbd-7ebc0f26eb1d"
      },
      "source": [
        "# printing the summary of the model\n",
        "model.summary()"
      ],
      "execution_count": 23,
      "outputs": [
        {
          "output_type": "stream",
          "text": [
            "Model: \"sequential\"\n",
            "_________________________________________________________________\n",
            "Layer (type)                 Output Shape              Param #   \n",
            "=================================================================\n",
            "dense (Dense)                (None, 32)                160       \n",
            "_________________________________________________________________\n",
            "dense_1 (Dense)              (None, 16)                528       \n",
            "_________________________________________________________________\n",
            "dense_2 (Dense)              (None, 8)                 136       \n",
            "_________________________________________________________________\n",
            "dense_3 (Dense)              (None, 1)                 9         \n",
            "=================================================================\n",
            "Total params: 833\n",
            "Trainable params: 833\n",
            "Non-trainable params: 0\n",
            "_________________________________________________________________\n"
          ],
          "name": "stdout"
        }
      ]
    },
    {
      "cell_type": "code",
      "metadata": {
        "id": "N8DwNLxa9syc",
        "colab_type": "code",
        "colab": {
          "base_uri": "https://localhost:8080/",
          "height": 466
        },
        "outputId": "e66ef780-0192-4ccc-bfac-9c14663d8ec0"
      },
      "source": [
        "# plotting the model flowchart\n",
        "from tensorflow.keras.utils import plot_model\n",
        "plot_model(model)"
      ],
      "execution_count": 24,
      "outputs": [
        {
          "output_type": "execute_result",
          "data": {
            "image/png": "[encoded data removed]",
            "text/plain": [
              "<IPython.core.display.Image object>"
            ]
          },
          "metadata": {
            "tags": []
          },
          "execution_count": 24
        }
      ]
    },
    {
      "cell_type": "code",
      "metadata": {
        "id": "EejLgHPk9wjp",
        "colab_type": "code",
        "colab": {
          "base_uri": "https://localhost:8080/",
          "height": 1000
        },
        "outputId": "18711d2c-3217-470d-bf5d-10333cf11bfc"
      },
      "source": [
        " model.fit(X, y, epochs=200, batch_size=10, verbose=1)"
      ],
      "execution_count": 25,
      "outputs": [
        {
          "output_type": "stream",
          "text": [
            "Epoch 1/200\n",
            "108/108 [==============================] - 0s 1ms/step - loss: 0.2616 - accuracy: 0.9268\n",
            "Epoch 2/200\n",
            "108/108 [==============================] - 0s 1ms/step - loss: 0.0437 - accuracy: 0.9926\n",
            "Epoch 3/200\n",
            "108/108 [==============================] - 0s 1ms/step - loss: 0.0150 - accuracy: 0.9972\n",
            "Epoch 4/200\n",
            "108/108 [==============================] - 0s 998us/step - loss: 0.0062 - accuracy: 1.0000\n",
            "Epoch 5/200\n",
            "108/108 [==============================] - 0s 1ms/step - loss: 0.0029 - accuracy: 1.0000\n",
            "Epoch 6/200\n",
            "108/108 [==============================] - 0s 946us/step - loss: 0.0015 - accuracy: 1.0000\n",
            "Epoch 7/200\n",
            "108/108 [==============================] - 0s 981us/step - loss: 9.4791e-04 - accuracy: 1.0000\n",
            "Epoch 8/200\n",
            "108/108 [==============================] - 0s 1ms/step - loss: 5.3763e-04 - accuracy: 1.0000\n",
            "Epoch 9/200\n",
            "108/108 [==============================] - 0s 985us/step - loss: 2.6541e-04 - accuracy: 1.0000\n",
            "Epoch 10/200\n",
            "108/108 [==============================] - 0s 989us/step - loss: 4.3310e-04 - accuracy: 1.0000\n",
            "Epoch 11/200\n",
            "108/108 [==============================] - 0s 1ms/step - loss: 1.4044e-04 - accuracy: 1.0000\n",
            "Epoch 12/200\n",
            "108/108 [==============================] - 0s 1ms/step - loss: 2.3146e-04 - accuracy: 1.0000\n",
            "Epoch 13/200\n",
            "108/108 [==============================] - 0s 1ms/step - loss: 5.3154e-05 - accuracy: 1.0000\n",
            "Epoch 14/200\n",
            "108/108 [==============================] - 0s 1ms/step - loss: 2.6928e-05 - accuracy: 1.0000\n",
            "Epoch 15/200\n",
            "108/108 [==============================] - 0s 1ms/step - loss: 2.1590e-05 - accuracy: 1.0000\n",
            "Epoch 16/200\n",
            "108/108 [==============================] - 0s 1ms/step - loss: 1.7142e-05 - accuracy: 1.0000\n",
            "Epoch 17/200\n",
            "108/108 [==============================] - 0s 944us/step - loss: 2.1016e-05 - accuracy: 1.0000\n",
            "Epoch 18/200\n",
            "108/108 [==============================] - 0s 1ms/step - loss: 4.6639e-06 - accuracy: 1.0000\n",
            "Epoch 19/200\n",
            "108/108 [==============================] - 0s 1ms/step - loss: 7.4834e-06 - accuracy: 1.0000\n",
            "Epoch 20/200\n",
            "108/108 [==============================] - 0s 1ms/step - loss: 2.4795e-06 - accuracy: 1.0000\n",
            "Epoch 21/200\n",
            "108/108 [==============================] - 0s 1ms/step - loss: 2.2250e-06 - accuracy: 1.0000\n",
            "Epoch 22/200\n",
            "108/108 [==============================] - 0s 1ms/step - loss: 2.1619e-06 - accuracy: 1.0000\n",
            "Epoch 23/200\n",
            "108/108 [==============================] - 0s 1ms/step - loss: 5.1462e-07 - accuracy: 1.0000\n",
            "Epoch 24/200\n",
            "108/108 [==============================] - 0s 1ms/step - loss: 3.4343e-07 - accuracy: 1.0000\n",
            "Epoch 25/200\n",
            "108/108 [==============================] - 0s 1ms/step - loss: 1.2212e-07 - accuracy: 1.0000\n",
            "Epoch 26/200\n",
            "108/108 [==============================] - 0s 1ms/step - loss: 1.3251e-07 - accuracy: 1.0000\n",
            "Epoch 27/200\n",
            "108/108 [==============================] - 0s 1ms/step - loss: 3.5318e-07 - accuracy: 1.0000\n",
            "Epoch 28/200\n",
            "108/108 [==============================] - 0s 1ms/step - loss: 1.5788e-07 - accuracy: 1.0000\n",
            "Epoch 29/200\n",
            "108/108 [==============================] - 0s 1ms/step - loss: 1.1710e-07 - accuracy: 1.0000\n",
            "Epoch 30/200\n",
            "108/108 [==============================] - 0s 1ms/step - loss: 6.0287e-08 - accuracy: 1.0000\n",
            "Epoch 31/200\n",
            "108/108 [==============================] - 0s 1ms/step - loss: 1.0170e-07 - accuracy: 1.0000\n",
            "Epoch 32/200\n",
            "108/108 [==============================] - 0s 988us/step - loss: 4.1379e-08 - accuracy: 1.0000\n",
            "Epoch 33/200\n",
            "108/108 [==============================] - 0s 1ms/step - loss: 4.2463e-08 - accuracy: 1.0000\n",
            "Epoch 34/200\n",
            "108/108 [==============================] - 0s 979us/step - loss: 1.5617e-08 - accuracy: 1.0000\n",
            "Epoch 35/200\n",
            "108/108 [==============================] - 0s 980us/step - loss: 1.0131e-08 - accuracy: 1.0000\n",
            "Epoch 36/200\n",
            "108/108 [==============================] - 0s 1ms/step - loss: 9.8062e-09 - accuracy: 1.0000\n",
            "Epoch 37/200\n",
            "108/108 [==============================] - 0s 1ms/step - loss: 7.0064e-09 - accuracy: 1.0000\n",
            "Epoch 38/200\n",
            "108/108 [==============================] - 0s 1ms/step - loss: 7.5678e-09 - accuracy: 1.0000\n",
            "Epoch 39/200\n",
            "108/108 [==============================] - 0s 1ms/step - loss: 5.8496e-09 - accuracy: 1.0000\n",
            "Epoch 40/200\n",
            "108/108 [==============================] - 0s 971us/step - loss: 1.9975e-09 - accuracy: 1.0000\n",
            "Epoch 41/200\n",
            "108/108 [==============================] - 0s 1ms/step - loss: 1.5851e-09 - accuracy: 1.0000\n",
            "Epoch 42/200\n",
            "108/108 [==============================] - 0s 1ms/step - loss: 1.2333e-09 - accuracy: 1.0000\n",
            "Epoch 43/200\n",
            "108/108 [==============================] - 0s 1ms/step - loss: 1.1505e-09 - accuracy: 1.0000\n",
            "Epoch 44/200\n",
            "108/108 [==============================] - 0s 1ms/step - loss: 1.0792e-09 - accuracy: 1.0000\n",
            "Epoch 45/200\n",
            "108/108 [==============================] - 0s 982us/step - loss: 8.8825e-10 - accuracy: 1.0000\n",
            "Epoch 46/200\n",
            "108/108 [==============================] - 0s 1ms/step - loss: 7.7125e-10 - accuracy: 1.0000\n",
            "Epoch 47/200\n",
            "108/108 [==============================] - 0s 1ms/step - loss: 6.9874e-10 - accuracy: 1.0000\n",
            "Epoch 48/200\n",
            "108/108 [==============================] - 0s 996us/step - loss: 6.6983e-10 - accuracy: 1.0000\n",
            "Epoch 49/200\n",
            "108/108 [==============================] - 0s 1ms/step - loss: 6.2728e-10 - accuracy: 1.0000\n",
            "Epoch 50/200\n",
            "108/108 [==============================] - 0s 1ms/step - loss: 5.3610e-10 - accuracy: 1.0000\n",
            "Epoch 51/200\n",
            "108/108 [==============================] - 0s 1ms/step - loss: 5.1014e-10 - accuracy: 1.0000\n",
            "Epoch 52/200\n",
            "108/108 [==============================] - 0s 985us/step - loss: 5.2900e-10 - accuracy: 1.0000\n",
            "Epoch 53/200\n",
            "108/108 [==============================] - 0s 1ms/step - loss: 4.4149e-10 - accuracy: 1.0000\n",
            "Epoch 54/200\n",
            "108/108 [==============================] - 0s 976us/step - loss: 4.5585e-10 - accuracy: 1.0000\n",
            "Epoch 55/200\n",
            "108/108 [==============================] - 0s 1ms/step - loss: 4.2127e-10 - accuracy: 1.0000\n",
            "Epoch 56/200\n",
            "108/108 [==============================] - 0s 1000us/step - loss: 4.0046e-10 - accuracy: 1.0000\n",
            "Epoch 57/200\n",
            "108/108 [==============================] - 0s 1ms/step - loss: 3.8531e-10 - accuracy: 1.0000\n",
            "Epoch 58/200\n",
            "108/108 [==============================] - 0s 1ms/step - loss: 4.0012e-10 - accuracy: 1.0000\n",
            "Epoch 59/200\n",
            "108/108 [==============================] - 0s 1ms/step - loss: 3.2211e-10 - accuracy: 1.0000\n",
            "Epoch 60/200\n",
            "108/108 [==============================] - 0s 1ms/step - loss: 3.0649e-10 - accuracy: 1.0000\n",
            "Epoch 61/200\n",
            "108/108 [==============================] - 0s 1ms/step - loss: 3.1029e-10 - accuracy: 1.0000\n",
            "Epoch 62/200\n",
            "108/108 [==============================] - 0s 1ms/step - loss: 3.1189e-10 - accuracy: 1.0000\n",
            "Epoch 63/200\n",
            "108/108 [==============================] - 0s 1ms/step - loss: 3.2402e-10 - accuracy: 1.0000\n",
            "Epoch 64/200\n",
            "108/108 [==============================] - 0s 1ms/step - loss: 2.7013e-10 - accuracy: 1.0000\n",
            "Epoch 65/200\n",
            "108/108 [==============================] - 0s 1ms/step - loss: 2.7121e-10 - accuracy: 1.0000\n",
            "Epoch 66/200\n",
            "108/108 [==============================] - 0s 992us/step - loss: 2.8562e-10 - accuracy: 1.0000\n",
            "Epoch 67/200\n",
            "108/108 [==============================] - 0s 1ms/step - loss: 2.8421e-10 - accuracy: 1.0000\n",
            "Epoch 68/200\n",
            "108/108 [==============================] - 0s 987us/step - loss: 2.8517e-10 - accuracy: 1.0000\n",
            "Epoch 69/200\n",
            "108/108 [==============================] - 0s 996us/step - loss: 3.3610e-10 - accuracy: 1.0000\n",
            "Epoch 70/200\n",
            "108/108 [==============================] - 0s 1ms/step - loss: 2.2395e-10 - accuracy: 1.0000\n",
            "Epoch 71/200\n",
            "108/108 [==============================] - 0s 982us/step - loss: 2.1094e-10 - accuracy: 1.0000\n",
            "Epoch 72/200\n",
            "108/108 [==============================] - 0s 959us/step - loss: 2.0792e-10 - accuracy: 1.0000\n",
            "Epoch 73/200\n",
            "108/108 [==============================] - 0s 1ms/step - loss: 2.0902e-10 - accuracy: 1.0000\n",
            "Epoch 74/200\n",
            "108/108 [==============================] - 0s 997us/step - loss: 2.1284e-10 - accuracy: 1.0000\n",
            "Epoch 75/200\n",
            "108/108 [==============================] - 0s 1ms/step - loss: 2.1899e-10 - accuracy: 1.0000\n",
            "Epoch 76/200\n",
            "108/108 [==============================] - 0s 994us/step - loss: 2.1734e-10 - accuracy: 1.0000\n",
            "Epoch 77/200\n",
            "108/108 [==============================] - 0s 1ms/step - loss: 1.7767e-10 - accuracy: 1.0000\n",
            "Epoch 78/200\n",
            "108/108 [==============================] - 0s 991us/step - loss: 1.7759e-10 - accuracy: 1.0000\n",
            "Epoch 79/200\n",
            "108/108 [==============================] - 0s 1ms/step - loss: 1.7357e-10 - accuracy: 1.0000\n",
            "Epoch 80/200\n",
            "108/108 [==============================] - 0s 1ms/step - loss: 1.7504e-10 - accuracy: 1.0000\n",
            "Epoch 81/200\n",
            "108/108 [==============================] - 0s 976us/step - loss: 1.7292e-10 - accuracy: 1.0000\n",
            "Epoch 82/200\n",
            "108/108 [==============================] - 0s 1ms/step - loss: 1.8030e-10 - accuracy: 1.0000\n",
            "Epoch 83/200\n",
            "108/108 [==============================] - 0s 1ms/step - loss: 1.8059e-10 - accuracy: 1.0000\n",
            "Epoch 84/200\n",
            "108/108 [==============================] - 0s 1ms/step - loss: 1.8940e-10 - accuracy: 1.0000\n",
            "Epoch 85/200\n",
            "108/108 [==============================] - 0s 1ms/step - loss: 1.9437e-10 - accuracy: 1.0000\n",
            "Epoch 86/200\n",
            "108/108 [==============================] - 0s 993us/step - loss: 2.0186e-10 - accuracy: 1.0000\n",
            "Epoch 87/200\n",
            "108/108 [==============================] - 0s 1ms/step - loss: 2.0054e-10 - accuracy: 1.0000\n",
            "Epoch 88/200\n",
            "108/108 [==============================] - 0s 1ms/step - loss: 1.8258e-10 - accuracy: 1.0000\n",
            "Epoch 89/200\n",
            "108/108 [==============================] - 0s 1ms/step - loss: 1.4592e-10 - accuracy: 1.0000\n",
            "Epoch 90/200\n",
            "108/108 [==============================] - 0s 1ms/step - loss: 1.3949e-10 - accuracy: 1.0000\n",
            "Epoch 91/200\n",
            "108/108 [==============================] - 0s 1ms/step - loss: 1.3520e-10 - accuracy: 1.0000\n",
            "Epoch 92/200\n",
            "108/108 [==============================] - 0s 957us/step - loss: 1.3337e-10 - accuracy: 1.0000\n",
            "Epoch 93/200\n",
            "108/108 [==============================] - 0s 971us/step - loss: 1.2984e-10 - accuracy: 1.0000\n",
            "Epoch 94/200\n",
            "108/108 [==============================] - 0s 1ms/step - loss: 1.3278e-10 - accuracy: 1.0000\n",
            "Epoch 95/200\n",
            "108/108 [==============================] - 0s 1ms/step - loss: 1.3791e-10 - accuracy: 1.0000\n",
            "Epoch 96/200\n",
            "108/108 [==============================] - 0s 989us/step - loss: 1.3851e-10 - accuracy: 1.0000\n",
            "Epoch 97/200\n",
            "108/108 [==============================] - 0s 998us/step - loss: 1.4417e-10 - accuracy: 1.0000\n",
            "Epoch 98/200\n",
            "108/108 [==============================] - 0s 1ms/step - loss: 1.4336e-10 - accuracy: 1.0000\n",
            "Epoch 99/200\n",
            "108/108 [==============================] - 0s 1ms/step - loss: 1.1777e-10 - accuracy: 1.0000\n",
            "Epoch 100/200\n",
            "108/108 [==============================] - 0s 1ms/step - loss: 1.1334e-10 - accuracy: 1.0000\n",
            "Epoch 101/200\n",
            "108/108 [==============================] - 0s 991us/step - loss: 1.1442e-10 - accuracy: 1.0000\n",
            "Epoch 102/200\n",
            "108/108 [==============================] - 0s 980us/step - loss: 1.2034e-10 - accuracy: 1.0000\n",
            "Epoch 103/200\n",
            "108/108 [==============================] - 0s 960us/step - loss: 1.1590e-10 - accuracy: 1.0000\n",
            "Epoch 104/200\n",
            "108/108 [==============================] - 0s 962us/step - loss: 1.2026e-10 - accuracy: 1.0000\n",
            "Epoch 105/200\n",
            "108/108 [==============================] - 0s 1ms/step - loss: 1.2519e-10 - accuracy: 1.0000\n",
            "Epoch 106/200\n",
            "108/108 [==============================] - 0s 1ms/step - loss: 1.2509e-10 - accuracy: 1.0000\n",
            "Epoch 107/200\n",
            "108/108 [==============================] - 0s 1ms/step - loss: 1.3065e-10 - accuracy: 1.0000\n",
            "Epoch 108/200\n",
            "108/108 [==============================] - 0s 1ms/step - loss: 1.3836e-10 - accuracy: 1.0000\n",
            "Epoch 109/200\n",
            "108/108 [==============================] - 0s 1ms/step - loss: 1.4333e-10 - accuracy: 1.0000\n",
            "Epoch 110/200\n",
            "108/108 [==============================] - 0s 973us/step - loss: 1.4790e-10 - accuracy: 1.0000\n",
            "Epoch 111/200\n",
            "108/108 [==============================] - 0s 987us/step - loss: 1.1102e-10 - accuracy: 1.0000\n",
            "Epoch 112/200\n",
            "108/108 [==============================] - 0s 987us/step - loss: 1.0803e-10 - accuracy: 1.0000\n",
            "Epoch 113/200\n",
            "108/108 [==============================] - 0s 993us/step - loss: 1.0792e-10 - accuracy: 1.0000\n",
            "Epoch 114/200\n",
            "108/108 [==============================] - 0s 1ms/step - loss: 1.0847e-10 - accuracy: 1.0000\n",
            "Epoch 115/200\n",
            "108/108 [==============================] - 0s 1ms/step - loss: 1.0959e-10 - accuracy: 1.0000\n",
            "Epoch 116/200\n",
            "108/108 [==============================] - 0s 1ms/step - loss: 1.1010e-10 - accuracy: 1.0000\n",
            "Epoch 117/200\n",
            "108/108 [==============================] - 0s 1ms/step - loss: 1.1289e-10 - accuracy: 1.0000\n",
            "Epoch 118/200\n",
            "108/108 [==============================] - 0s 945us/step - loss: 1.1867e-10 - accuracy: 1.0000\n",
            "Epoch 119/200\n",
            "108/108 [==============================] - 0s 952us/step - loss: 1.1564e-10 - accuracy: 1.0000\n",
            "Epoch 120/200\n",
            "108/108 [==============================] - 0s 941us/step - loss: 1.1642e-10 - accuracy: 1.0000\n",
            "Epoch 121/200\n",
            "108/108 [==============================] - 0s 1ms/step - loss: 1.2005e-10 - accuracy: 1.0000\n",
            "Epoch 122/200\n",
            "108/108 [==============================] - 0s 992us/step - loss: 1.2304e-10 - accuracy: 1.0000\n",
            "Epoch 123/200\n",
            "108/108 [==============================] - 0s 994us/step - loss: 1.2597e-10 - accuracy: 1.0000\n",
            "Epoch 124/200\n",
            "108/108 [==============================] - 0s 1ms/step - loss: 1.2793e-10 - accuracy: 1.0000\n",
            "Epoch 125/200\n",
            "108/108 [==============================] - 0s 972us/step - loss: 1.2870e-10 - accuracy: 1.0000\n",
            "Epoch 126/200\n",
            "108/108 [==============================] - 0s 1ms/step - loss: 1.3267e-10 - accuracy: 1.0000\n",
            "Epoch 127/200\n",
            "108/108 [==============================] - 0s 1ms/step - loss: 1.3702e-10 - accuracy: 1.0000\n",
            "Epoch 128/200\n",
            "108/108 [==============================] - 0s 1ms/step - loss: 1.2621e-10 - accuracy: 1.0000\n",
            "Epoch 129/200\n",
            "108/108 [==============================] - 0s 1ms/step - loss: 9.5797e-11 - accuracy: 1.0000\n",
            "Epoch 130/200\n",
            "108/108 [==============================] - 0s 1ms/step - loss: 9.8881e-11 - accuracy: 1.0000\n",
            "Epoch 131/200\n",
            "108/108 [==============================] - 0s 1ms/step - loss: 9.2553e-11 - accuracy: 1.0000\n",
            "Epoch 132/200\n",
            "108/108 [==============================] - 0s 1ms/step - loss: 9.5081e-11 - accuracy: 1.0000\n",
            "Epoch 133/200\n",
            "108/108 [==============================] - 0s 1000us/step - loss: 9.6500e-11 - accuracy: 1.0000\n",
            "Epoch 134/200\n",
            "108/108 [==============================] - 0s 981us/step - loss: 9.9153e-11 - accuracy: 1.0000\n",
            "Epoch 135/200\n",
            "108/108 [==============================] - 0s 1ms/step - loss: 1.0337e-10 - accuracy: 1.0000\n",
            "Epoch 136/200\n",
            "108/108 [==============================] - 0s 1ms/step - loss: 1.0740e-10 - accuracy: 1.0000\n",
            "Epoch 137/200\n",
            "108/108 [==============================] - 0s 994us/step - loss: 1.1044e-10 - accuracy: 1.0000\n",
            "Epoch 138/200\n",
            "108/108 [==============================] - 0s 998us/step - loss: 1.1236e-10 - accuracy: 1.0000\n",
            "Epoch 139/200\n",
            "108/108 [==============================] - 0s 1ms/step - loss: 1.1566e-10 - accuracy: 1.0000\n",
            "Epoch 140/200\n",
            "108/108 [==============================] - 0s 1ms/step - loss: 1.0854e-10 - accuracy: 1.0000\n",
            "Epoch 141/200\n",
            "108/108 [==============================] - 0s 989us/step - loss: 1.1273e-10 - accuracy: 1.0000\n",
            "Epoch 142/200\n",
            "108/108 [==============================] - 0s 1ms/step - loss: 1.1690e-10 - accuracy: 1.0000\n",
            "Epoch 143/200\n",
            "108/108 [==============================] - 0s 1ms/step - loss: 1.2000e-10 - accuracy: 1.0000\n",
            "Epoch 144/200\n",
            "108/108 [==============================] - 0s 1ms/step - loss: 1.2415e-10 - accuracy: 1.0000\n",
            "Epoch 145/200\n",
            "108/108 [==============================] - 0s 1ms/step - loss: 1.2659e-10 - accuracy: 1.0000\n",
            "Epoch 146/200\n",
            "108/108 [==============================] - 0s 1ms/step - loss: 1.3468e-10 - accuracy: 1.0000\n",
            "Epoch 147/200\n",
            "108/108 [==============================] - 0s 1ms/step - loss: 1.3969e-10 - accuracy: 1.0000\n",
            "Epoch 148/200\n",
            "108/108 [==============================] - 0s 1ms/step - loss: 1.4518e-10 - accuracy: 1.0000\n",
            "Epoch 149/200\n",
            "108/108 [==============================] - 0s 1ms/step - loss: 1.3276e-10 - accuracy: 1.0000\n",
            "Epoch 150/200\n",
            "108/108 [==============================] - 0s 1ms/step - loss: 1.3748e-10 - accuracy: 1.0000\n",
            "Epoch 151/200\n",
            "108/108 [==============================] - 0s 1ms/step - loss: 1.4070e-10 - accuracy: 1.0000\n",
            "Epoch 152/200\n",
            "108/108 [==============================] - 0s 1ms/step - loss: 1.4904e-10 - accuracy: 1.0000\n",
            "Epoch 153/200\n",
            "108/108 [==============================] - 0s 1ms/step - loss: 1.5354e-10 - accuracy: 1.0000\n",
            "Epoch 154/200\n",
            "108/108 [==============================] - 0s 987us/step - loss: 1.5354e-10 - accuracy: 1.0000\n",
            "Epoch 155/200\n",
            "108/108 [==============================] - 0s 974us/step - loss: 1.1182e-10 - accuracy: 1.0000\n",
            "Epoch 156/200\n",
            "108/108 [==============================] - 0s 1ms/step - loss: 1.1220e-10 - accuracy: 1.0000\n",
            "Epoch 157/200\n",
            "108/108 [==============================] - 0s 944us/step - loss: 9.8124e-11 - accuracy: 1.0000\n",
            "Epoch 158/200\n",
            "108/108 [==============================] - 0s 990us/step - loss: 7.0164e-11 - accuracy: 1.0000\n",
            "Epoch 159/200\n",
            "108/108 [==============================] - 0s 1ms/step - loss: 7.2104e-11 - accuracy: 1.0000\n",
            "Epoch 160/200\n",
            "108/108 [==============================] - 0s 1ms/step - loss: 7.2819e-11 - accuracy: 1.0000\n",
            "Epoch 161/200\n",
            "108/108 [==============================] - 0s 1ms/step - loss: 7.3504e-11 - accuracy: 1.0000\n",
            "Epoch 162/200\n",
            "108/108 [==============================] - 0s 1ms/step - loss: 7.5189e-11 - accuracy: 1.0000\n",
            "Epoch 163/200\n",
            "108/108 [==============================] - 0s 1ms/step - loss: 7.6182e-11 - accuracy: 1.0000\n",
            "Epoch 164/200\n",
            "108/108 [==============================] - 0s 1ms/step - loss: 7.6984e-11 - accuracy: 1.0000\n",
            "Epoch 165/200\n",
            "108/108 [==============================] - 0s 1ms/step - loss: 7.8140e-11 - accuracy: 1.0000\n",
            "Epoch 166/200\n",
            "108/108 [==============================] - 0s 1ms/step - loss: 8.0158e-11 - accuracy: 1.0000\n",
            "Epoch 167/200\n",
            "108/108 [==============================] - 0s 1ms/step - loss: 8.1038e-11 - accuracy: 1.0000\n",
            "Epoch 168/200\n",
            "108/108 [==============================] - 0s 1ms/step - loss: 8.2617e-11 - accuracy: 1.0000\n",
            "Epoch 169/200\n",
            "108/108 [==============================] - 0s 1ms/step - loss: 8.4527e-11 - accuracy: 1.0000\n",
            "Epoch 170/200\n",
            "108/108 [==============================] - 0s 1ms/step - loss: 8.5787e-11 - accuracy: 1.0000\n",
            "Epoch 171/200\n",
            "108/108 [==============================] - 0s 1ms/step - loss: 8.7250e-11 - accuracy: 1.0000\n",
            "Epoch 172/200\n",
            "108/108 [==============================] - 0s 999us/step - loss: 9.0487e-11 - accuracy: 1.0000\n",
            "Epoch 173/200\n",
            "108/108 [==============================] - 0s 1ms/step - loss: 8.7266e-11 - accuracy: 1.0000\n",
            "Epoch 174/200\n",
            "108/108 [==============================] - 0s 1ms/step - loss: 8.8712e-11 - accuracy: 1.0000\n",
            "Epoch 175/200\n",
            "108/108 [==============================] - 0s 971us/step - loss: 9.0557e-11 - accuracy: 1.0000\n",
            "Epoch 176/200\n",
            "108/108 [==============================] - 0s 988us/step - loss: 9.3446e-11 - accuracy: 1.0000\n",
            "Epoch 177/200\n",
            "108/108 [==============================] - 0s 1ms/step - loss: 9.5209e-11 - accuracy: 1.0000\n",
            "Epoch 178/200\n",
            "108/108 [==============================] - 0s 1ms/step - loss: 9.5973e-11 - accuracy: 1.0000\n",
            "Epoch 179/200\n",
            "108/108 [==============================] - 0s 1ms/step - loss: 9.9819e-11 - accuracy: 1.0000\n",
            "Epoch 180/200\n",
            "108/108 [==============================] - 0s 1ms/step - loss: 1.0272e-10 - accuracy: 1.0000\n",
            "Epoch 181/200\n",
            "108/108 [==============================] - 0s 1ms/step - loss: 1.0354e-10 - accuracy: 1.0000\n",
            "Epoch 182/200\n",
            "108/108 [==============================] - 0s 1ms/step - loss: 1.0608e-10 - accuracy: 1.0000\n",
            "Epoch 183/200\n",
            "108/108 [==============================] - 0s 1ms/step - loss: 1.0949e-10 - accuracy: 1.0000\n",
            "Epoch 184/200\n",
            "108/108 [==============================] - 0s 1ms/step - loss: 1.1113e-10 - accuracy: 1.0000\n",
            "Epoch 185/200\n",
            "108/108 [==============================] - 0s 1ms/step - loss: 1.1431e-10 - accuracy: 1.0000\n",
            "Epoch 186/200\n",
            "108/108 [==============================] - 0s 1ms/step - loss: 1.1869e-10 - accuracy: 1.0000\n",
            "Epoch 187/200\n",
            "108/108 [==============================] - 0s 1ms/step - loss: 1.1295e-10 - accuracy: 1.0000\n",
            "Epoch 188/200\n",
            "108/108 [==============================] - 0s 1ms/step - loss: 1.1423e-10 - accuracy: 1.0000\n",
            "Epoch 189/200\n",
            "108/108 [==============================] - 0s 992us/step - loss: 1.1679e-10 - accuracy: 1.0000\n",
            "Epoch 190/200\n",
            "108/108 [==============================] - 0s 1ms/step - loss: 1.0878e-10 - accuracy: 1.0000\n",
            "Epoch 191/200\n",
            "108/108 [==============================] - 0s 1ms/step - loss: 7.8642e-11 - accuracy: 1.0000\n",
            "Epoch 192/200\n",
            "108/108 [==============================] - 0s 979us/step - loss: 8.1508e-11 - accuracy: 1.0000\n",
            "Epoch 193/200\n",
            "108/108 [==============================] - 0s 1ms/step - loss: 8.0798e-11 - accuracy: 1.0000\n",
            "Epoch 194/200\n",
            "108/108 [==============================] - 0s 1ms/step - loss: 8.3474e-11 - accuracy: 1.0000\n",
            "Epoch 195/200\n",
            "108/108 [==============================] - 0s 1ms/step - loss: 8.4731e-11 - accuracy: 1.0000\n",
            "Epoch 196/200\n",
            "108/108 [==============================] - 0s 1ms/step - loss: 8.6663e-11 - accuracy: 1.0000\n",
            "Epoch 197/200\n",
            "108/108 [==============================] - 0s 1ms/step - loss: 8.7950e-11 - accuracy: 1.0000\n",
            "Epoch 198/200\n",
            "108/108 [==============================] - 0s 1ms/step - loss: 7.7310e-11 - accuracy: 1.0000\n",
            "Epoch 199/200\n",
            "108/108 [==============================] - 0s 998us/step - loss: 8.0271e-11 - accuracy: 1.0000\n",
            "Epoch 200/200\n",
            "108/108 [==============================] - 0s 986us/step - loss: 8.1521e-11 - accuracy: 1.0000\n"
          ],
          "name": "stdout"
        },
        {
          "output_type": "execute_result",
          "data": {
            "text/plain": [
              "<tensorflow.python.keras.callbacks.History at 0x7fdd54c5fac8>"
            ]
          },
          "metadata": {
            "tags": []
          },
          "execution_count": 25
        }
      ]
    },
    {
      "cell_type": "code",
      "metadata": {
        "id": "H0kTDkObHzfG",
        "colab_type": "code",
        "colab": {
          "base_uri": "https://localhost:8080/",
          "height": 88
        },
        "outputId": "b082ef45-e1ff-438f-fcef-579fb60ad016"
      },
      "source": [
        "predictions = model.predict_classes(test_data)"
      ],
      "execution_count": 26,
      "outputs": [
        {
          "output_type": "stream",
          "text": [
            "WARNING:tensorflow:From <ipython-input-26-ab01a069e391>:1: Sequential.predict_classes (from tensorflow.python.keras.engine.sequential) is deprecated and will be removed after 2021-01-01.\n",
            "Instructions for updating:\n",
            "Please use instead:* `np.argmax(model.predict(x), axis=-1)`,   if your model does multi-class classification   (e.g. if it uses a `softmax` last-layer activation).* `(model.predict(x) > 0.5).astype(\"int32\")`,   if your model does binary classification   (e.g. if it uses a `sigmoid` last-layer activation).\n"
          ],
          "name": "stdout"
        }
      ]
    },
    {
      "cell_type": "code",
      "metadata": {
        "id": "IOTad9qVIyGV",
        "colab_type": "code",
        "colab": {
          "base_uri": "https://localhost:8080/",
          "height": 17
        },
        "outputId": "d02bc6f6-4b9a-44d1-d27a-25f2420648a3"
      },
      "source": [
        "# To create Dataframe of predicted value with particular respective index\n",
        "res = pd.DataFrame(predictions) #preditions are nothing but the final predictions of your model on input features of your new unseen test data\n",
        "res.index = test_data.index # its important for comparison. Here \"test_new\" is your new test dataset\n",
        "res.columns = ['Class']\n",
        "\n",
        "# To download the csv file locally\n",
        "from google.colab import files\n",
        "res.to_csv('submissionfileA.csv')         \n",
        "files.download('submissionfileA.csv')"
      ],
      "execution_count": 27,
      "outputs": [
        {
          "output_type": "display_data",
          "data": {
            "application/javascript": [
              "\n",
              "    async function download(id, filename, size) {\n",
              "      if (!google.colab.kernel.accessAllowed) {\n",
              "        return;\n",
              "      }\n",
              "      const div = document.createElement('div');\n",
              "      const label = document.createElement('label');\n",
              "      label.textContent = `Downloading \"${filename}\": `;\n",
              "      div.appendChild(label);\n",
              "      const progress = document.createElement('progress');\n",
              "      progress.max = size;\n",
              "      div.appendChild(progress);\n",
              "      document.body.appendChild(div);\n",
              "\n",
              "      const buffers = [];\n",
              "      let downloaded = 0;\n",
              "\n",
              "      const channel = await google.colab.kernel.comms.open(id);\n",
              "      // Send a message to notify the kernel that we're ready.\n",
              "      channel.send({})\n",
              "\n",
              "      for await (const message of channel.messages) {\n",
              "        // Send a message to notify the kernel that we're ready.\n",
              "        channel.send({})\n",
              "        if (message.buffers) {\n",
              "          for (const buffer of message.buffers) {\n",
              "            buffers.push(buffer);\n",
              "            downloaded += buffer.byteLength;\n",
              "            progress.value = downloaded;\n",
              "          }\n",
              "        }\n",
              "      }\n",
              "      const blob = new Blob(buffers, {type: 'application/binary'});\n",
              "      const a = document.createElement('a');\n",
              "      a.href = window.URL.createObjectURL(blob);\n",
              "      a.download = filename;\n",
              "      div.appendChild(a);\n",
              "      a.click();\n",
              "      div.remove();\n",
              "    }\n",
              "  "
            ],
            "text/plain": [
              "<IPython.core.display.Javascript object>"
            ]
          },
          "metadata": {
            "tags": []
          }
        },
        {
          "output_type": "display_data",
          "data": {
            "application/javascript": [
              "download(\"download_a161a0d4-6530-4c7b-ad4a-820fe449ab6c\", \"submissionfileA.csv\", 1547)"
            ],
            "text/plain": [
              "<IPython.core.display.Javascript object>"
            ]
          },
          "metadata": {
            "tags": []
          }
        }
      ]
    }
  ]
}